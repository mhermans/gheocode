{
 "cells": [
  {
   "cell_type": "code",
   "execution_count": 2,
   "metadata": {
    "collapsed": false,
    "deletable": true,
    "editable": true
   },
   "outputs": [],
   "source": [
    "import pandas as pd\n",
    "import requests\n",
    "import urllib\n",
    "# for reading/writing xlsx:\n",
    "# pip install xlrd\n",
    "# pip install openpyxl"
   ]
  },
  {
   "cell_type": "code",
   "execution_count": 13,
   "metadata": {
    "collapsed": false,
    "deletable": true,
    "editable": true
   },
   "outputs": [],
   "source": [
    "addressen = pd.read_excel(\"/home/mhermans/downloads/XX.xlsx\")"
   ]
  },
  {
   "cell_type": "code",
   "execution_count": 14,
   "metadata": {
    "collapsed": false
   },
   "outputs": [],
   "source": [
    "addressen = addressen[1:]"
   ]
  },
  {
   "cell_type": "code",
   "execution_count": 17,
   "metadata": {
    "collapsed": false
   },
   "outputs": [
    {
     "data": {
      "text/html": [
       "<div>\n",
       "<style>\n",
       "    .dataframe thead tr:only-child th {\n",
       "        text-align: right;\n",
       "    }\n",
       "\n",
       "    .dataframe thead th {\n",
       "        text-align: left;\n",
       "    }\n",
       "\n",
       "    .dataframe tbody tr th {\n",
       "        vertical-align: top;\n",
       "    }\n",
       "</style>\n",
       "<table border=\"1\" class=\"dataframe\">\n",
       "  <thead>\n",
       "    <tr style=\"text-align: right;\">\n",
       "      <th></th>\n",
       "      <th>Serial</th>\n",
       "      <th>Woonplaats</th>\n",
       "      <th>Postcode</th>\n",
       "      <th>Straat &amp; huisnummer/bus</th>\n",
       "      <th>Adres</th>\n",
       "      <th>Latitude</th>\n",
       "      <th>Longitude</th>\n",
       "      <th>full_address</th>\n",
       "    </tr>\n",
       "  </thead>\n",
       "  <tbody>\n",
       "    <tr>\n",
       "      <th>1</th>\n",
       "      <td>1.0</td>\n",
       "      <td>Lochristi</td>\n",
       "      <td>9080</td>\n",
       "      <td>Acacialaan</td>\n",
       "      <td>Acacialaan 9080 Lochristi</td>\n",
       "      <td>51.0842</td>\n",
       "      <td>3.82087</td>\n",
       "      <td>Acacialaan 9080 Lochristi</td>\n",
       "    </tr>\n",
       "    <tr>\n",
       "      <th>...</th>\n",
       "      <td>...</td>\n",
       "      <td>...</td>\n",
       "      <td>...</td>\n",
       "      <td>...</td>\n",
       "      <td>...</td>\n",
       "      <td>...</td>\n",
       "      <td>...</td>\n",
       "      <td>...</td>\n",
       "    </tr>\n",
       "    <tr>\n",
       "      <th>977</th>\n",
       "      <td>979.0</td>\n",
       "      <td>GENT</td>\n",
       "      <td>9000</td>\n",
       "      <td>Melkerijstraat, 32, D</td>\n",
       "      <td>Melkerijstraat, 32, D 9000 GENT</td>\n",
       "      <td>51.0255</td>\n",
       "      <td>3.73124</td>\n",
       "      <td>Melkerijstraat, 32, D 9000 GENT</td>\n",
       "    </tr>\n",
       "  </tbody>\n",
       "</table>\n",
       "<p>977 rows × 8 columns</p>\n",
       "</div>"
      ],
      "text/plain": [
       "     Serial       Woonplaats Postcode        Straat & huisnummer/bus  \\\n",
       "[977 rows x 8 columns]"
      ]
     },
     "execution_count": 17,
     "metadata": {},
     "output_type": "execute_result"
    }
   ],
   "source": [
    "addressen"
   ]
  },
  {
   "cell_type": "code",
   "execution_count": 16,
   "metadata": {
    "collapsed": false,
    "deletable": true,
    "editable": true
   },
   "outputs": [],
   "source": [
    "addressen['full_address'] = addressen['Straat & huisnummer/bus'].astype(str) + ' ' + addressen['Postcode'].astype(str) + ' ' + addressen['Woonplaats'].astype(str)"
   ]
  },
  {
   "cell_type": "code",
   "execution_count": 26,
   "metadata": {
    "collapsed": true,
    "deletable": true,
    "editable": true
   },
   "outputs": [],
   "source": [
    "def get_address_info(address_string):\n",
    "    address_string = address_string.replace('/', '')\n",
    "    gheocode_endpoint = 'http://service.mhermans.net/gheocode/'\n",
    "    q = gheocode_endpoint + urllib.parse.quote(address_string)\n",
    "    #print(q)\n",
    "    r = requests.get(q)\n",
    "    #print(r.status_code)\n",
    "    #print(r.content)\n",
    "    return r.json()"
   ]
  },
  {
   "cell_type": "code",
   "execution_count": 27,
   "metadata": {
    "collapsed": false,
    "deletable": true,
    "editable": true,
    "scrolled": true
   },
   "outputs": [
    {
     "name": "stdout",
     "output_type": "stream",
     "text": [
      "Acacialaan 9080 Lochristi\n",
     ]
    }
   ],
   "source": [
    "responses = []\n",
    "for address in addressen['full_address']:\n",
    "    print(address)\n",
    "    data = get_address_info(address)\n",
    "    responses.append(data)"
   ]
  },
  {
   "cell_type": "code",
   "execution_count": 28,
   "metadata": {
    "collapsed": false,
    "deletable": true,
    "editable": true
   },
   "outputs": [],
   "source": [
    "df_responses = pd.DataFrame(responses)"
   ]
  },
  {
   "cell_type": "code",
   "execution_count": 29,
   "metadata": {
    "collapsed": false,
    "deletable": true,
    "editable": true
   },
   "outputs": [],
   "source": [
    "addressen_gheocoded = pd.concat([addressen[['Serial', 'full_address']], df_responses], axis=1)"
   ]
  },
  {
   "cell_type": "code",
   "execution_count": 31,
   "metadata": {
    "collapsed": false,
    "deletable": true,
    "editable": true
   },
   "outputs": [],
   "source": [
    "addressen_gheocoded.to_excel(\n",
    "    \"output_addresses.xlsx\",\n",
    "    index = False)\n",
    "\n",
    "addressen_gheocoded.to_csv(\n",
    "    \"output_addresses.csv\",\n",
    "    index = False)"
   ]
  }
 ],
 "metadata": {
  "kernelspec": {
   "display_name": "Python 3",
   "language": "python",
   "name": "python3"
  },
  "language_info": {
   "codemirror_mode": {
    "name": "ipython",
    "version": 3
   },
   "file_extension": ".py",
   "mimetype": "text/x-python",
   "name": "python",
   "nbconvert_exporter": "python",
   "pygments_lexer": "ipython3",
   "version": "3.5.3"
  }
 },
 "nbformat": 4,
 "nbformat_minor": 2
}
