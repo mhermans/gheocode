{
 "cells": [
  {
   "cell_type": "code",
   "execution_count": null,
   "metadata": {
    "collapsed": true
   },
   "outputs": [],
   "source": [
    "import pandas as pd\n",
    "import requests\n",
    "import urllib\n",
    "# for reading/writing xlsx:\n",
    "# pip install xlrd\n",
    "# pop install openpyxl"
   ]
  },
  {
   "cell_type": "code",
   "execution_count": null,
   "metadata": {
    "collapsed": false
   },
   "outputs": [],
   "source": [
    "addressen = pd.read_excel(\"input_addresses.xlsx\")"
   ]
  },
  {
   "cell_type": "code",
   "execution_count": null,
   "metadata": {
    "collapsed": false
   },
   "outputs": [],
   "source": [
    "addressen['full_address'] = addressen['Adres'] + ' ' + addressen['PC'].astype(str) + ' ' + addressen['Gemeente']"
   ]
  },
  {
   "cell_type": "code",
   "execution_count": null,
   "metadata": {
    "collapsed": true
   },
   "outputs": [],
   "source": [
    "def get_address_info(address_string):\n",
    "    address_string = address_string.replace('/', '')\n",
    "    gheocode_endpoint = 'http://service.mhermans.net/gheocode/'\n",
    "    q = gheocode_endpoint + urllib.parse.quote(address_string)\n",
    "    #print(q)\n",
    "    r = requests.get(q)\n",
    "    #print(r.status_code)\n",
    "    #print(r.content)\n",
    "    return r.json()"
   ]
  },
  {
   "cell_type": "code",
   "execution_count": null,
   "metadata": {
    "collapsed": false,
    "scrolled": true
   },
   "outputs": [],
   "source": [
    "responses = []\n",
    "for address in addressen['full_address'][1:10]:\n",
    "    print(address)\n",
    "    data = get_address_info(address)\n",
    "    responses.append(data)"
   ]
  },
  {
   "cell_type": "code",
   "execution_count": null,
   "metadata": {
    "collapsed": false
   },
   "outputs": [],
   "source": [
    "df_responses = pd.DataFrame(responses)"
   ]
  },
  {
   "cell_type": "code",
   "execution_count": null,
   "metadata": {
    "collapsed": false
   },
   "outputs": [],
   "source": [
    "addressen_gheocoded = pd.concat([addressen[['Volgnummer', 'full_address']], df_responses], axis=1)"
   ]
  },
  {
   "cell_type": "code",
   "execution_count": null,
   "metadata": {
    "collapsed": false
   },
   "outputs": [],
   "source": [
    "addressen_gheocoded.to_excel(\n",
    "    \"output_addresses.xlsx\",\n",
    "    index = False)\n",
    "\n",
    "addressen_gheocoded.to_csv(\n",
    "    \"output_addresses.csv\",\n",
    "    index = False)"
   ]
  }
 ],
 "metadata": {
  "kernelspec": {
   "display_name": "Python 3",
   "language": "python",
   "name": "python3"
  },
  "language_info": {
   "codemirror_mode": {
    "name": "ipython",
    "version": 3
   },
   "file_extension": ".py",
   "mimetype": "text/x-python",
   "name": "python",
   "nbconvert_exporter": "python",
   "pygments_lexer": "ipython3",
   "version": "3.5.3rc1"
  }
 },
 "nbformat": 4,
 "nbformat_minor": 2
}
